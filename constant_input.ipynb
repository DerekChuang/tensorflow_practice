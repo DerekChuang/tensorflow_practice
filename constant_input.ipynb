{
  "nbformat": 4,
  "nbformat_minor": 0,
  "metadata": {
    "colab": {
      "name": "constant_input.ipynb",
      "version": "0.3.2",
      "provenance": [],
      "include_colab_link": true
    },
    "kernelspec": {
      "name": "python3",
      "display_name": "Python 3"
    }
  },
  "cells": [
    {
      "cell_type": "markdown",
      "metadata": {
        "id": "view-in-github",
        "colab_type": "text"
      },
      "source": [
        "[View in Colaboratory](https://colab.research.google.com/github/DerekChuang/tensorflow_practice/blob/master/constant_input.ipynb)"
      ]
    },
    {
      "metadata": {
        "id": "m-2MWagHan42",
        "colab_type": "code",
        "colab": {}
      },
      "cell_type": "code",
      "source": [
        "\n",
        "import tensorflow as tf\n",
        "import numpy as np\n",
        "import shutil"
      ],
      "execution_count": 0,
      "outputs": []
    },
    {
      "metadata": {
        "id": "k7MGsMgSby1j",
        "colab_type": "code",
        "colab": {
          "base_uri": "https://localhost:8080/",
          "height": 35
        },
        "outputId": "4330e9de-0467-4e5c-b5e3-ebf33b3e060b"
      },
      "cell_type": "code",
      "source": [
        "! ls"
      ],
      "execution_count": 6,
      "outputs": [
        {
          "output_type": "stream",
          "text": [
            "outdir\tsample_data\n"
          ],
          "name": "stdout"
        }
      ]
    },
    {
      "metadata": {
        "id": "EQxCHpQ2bIjM",
        "colab_type": "code",
        "colab": {}
      },
      "cell_type": "code",
      "source": [
        "shutil.rmtree(\"outdir\", ignore_errors = True) # start fresh each time\n"
      ],
      "execution_count": 0,
      "outputs": []
    },
    {
      "metadata": {
        "id": "FC3ouHUzcVU7",
        "colab_type": "text"
      },
      "cell_type": "markdown",
      "source": [
        "import shutil\n",
        "shutil.rmtree(\"C:\\\\FolderName\\\\SubFolder\")\n",
        "#醬就可以把下面的目錄和 SubFolder 都刪除的說\n",
        "\"\"\"\n",
        "注意事項\n",
        "Description: shutil.rmtree(path, ignore_errors=False, onerror=None)\n",
        "Docstring: Recursively delete a directory tree.\n",
        " \n",
        "    If ignore_errors is set, errors are ignored; otherwise, if onerror is set, it is called\n",
        "to handle the error with arguments (func, path, exc_info) where func is os.listdir,\n",
        "os.remove, or os.rmdir; path is the argument to that function that caused it to fail;\n",
        "and exc_info is a tuple returned by sys.exc_info(). If ignore_errors is false and onerror is\n",
        "None, an exception is raised.\n",
        " \n",
        "\"\"\""
      ]
    },
    {
      "metadata": {
        "id": "9hJ8Oj1cb4tI",
        "colab_type": "code",
        "colab": {
          "base_uri": "https://localhost:8080/",
          "height": 35
        },
        "outputId": "6dcc1e5a-d459-4da7-e034-3fbabb40090a"
      },
      "cell_type": "code",
      "source": [
        "! ls"
      ],
      "execution_count": 17,
      "outputs": [
        {
          "output_type": "stream",
          "text": [
            "sample_data\n"
          ],
          "name": "stdout"
        }
      ]
    },
    {
      "metadata": {
        "id": "IW9RJx98cdwp",
        "colab_type": "code",
        "colab": {
          "base_uri": "https://localhost:8080/",
          "height": 35
        },
        "outputId": "6b394829-454f-4c5d-a77f-3631f3f4efe1"
      },
      "cell_type": "code",
      "source": [
        "! cat sample_data"
      ],
      "execution_count": 10,
      "outputs": [
        {
          "output_type": "stream",
          "text": [
            "cat: sample_data: Is a directory\n"
          ],
          "name": "stdout"
        }
      ]
    },
    {
      "metadata": {
        "id": "sK9k1bBHbJ18",
        "colab_type": "code",
        "colab": {
          "base_uri": "https://localhost:8080/",
          "height": 1058
        },
        "outputId": "753538aa-35e5-4029-c779-3b85f57b4f3d"
      },
      "cell_type": "code",
      "source": [
        "\n",
        "def train_input_fn():\n",
        "    features = {\"sq_footage\": [ 1000,    2000,    3000,    1000,  2000,  3000],\n",
        "                \"type\":       [\"house\", \"house\", \"house\", \"apt\", \"apt\", \"apt\"]}\n",
        "   \n",
        "    labels =                  [ 500,     1000,    1500,    700,   1300,  1900] # in thousands\n",
        "    \n",
        "    return features, labels\n",
        "\n",
        "featcols = [\n",
        "    tf.feature_column.numeric_column(\"sq_footage\"),\n",
        "    tf.feature_column.categorical_column_with_vocabulary_list(\"type\", [\"house\", \"apt\"])\n",
        "]\n",
        "\n",
        "model = tf.estimator.LinearRegressor(feature_columns=featcols, model_dir=\"outdir\")\n",
        "                                     \n",
        "model.train(input_fn = train_input_fn, steps=2000)"
      ],
      "execution_count": 23,
      "outputs": [
        {
          "output_type": "stream",
          "text": [
            "INFO:tensorflow:Using default config.\n",
            "INFO:tensorflow:Using config: {'_model_dir': 'outdir', '_tf_random_seed': None, '_save_summary_steps': 100, '_save_checkpoints_steps': None, '_save_checkpoints_secs': 600, '_session_config': allow_soft_placement: true\n",
            "graph_options {\n",
            "  rewrite_options {\n",
            "    meta_optimizer_iterations: ONE\n",
            "  }\n",
            "}\n",
            ", '_keep_checkpoint_max': 5, '_keep_checkpoint_every_n_hours': 10000, '_log_step_count_steps': 100, '_train_distribute': None, '_device_fn': None, '_protocol': None, '_eval_distribute': None, '_experimental_distribute': None, '_service': None, '_cluster_spec': <tensorflow.python.training.server_lib.ClusterSpec object at 0x7f0ad1f9e748>, '_task_type': 'worker', '_task_id': 0, '_global_id_in_cluster': 0, '_master': '', '_evaluation_master': '', '_is_chief': True, '_num_ps_replicas': 0, '_num_worker_replicas': 1}\n",
            "INFO:tensorflow:Calling model_fn.\n",
            "INFO:tensorflow:Done calling model_fn.\n",
            "INFO:tensorflow:Create CheckpointSaverHook.\n",
            "INFO:tensorflow:Graph was finalized.\n",
            "INFO:tensorflow:Restoring parameters from outdir/model.ckpt-2000\n",
            "INFO:tensorflow:Running local_init_op.\n",
            "INFO:tensorflow:Done running local_init_op.\n",
            "INFO:tensorflow:Saving checkpoints for 2000 into outdir/model.ckpt.\n",
            "INFO:tensorflow:loss = 123134.27, step = 2001\n",
            "INFO:tensorflow:global_step/sec: 848.39\n",
            "INFO:tensorflow:loss = 122454.95, step = 2101 (0.120 sec)\n",
            "INFO:tensorflow:global_step/sec: 1264.69\n",
            "INFO:tensorflow:loss = 121793.414, step = 2201 (0.079 sec)\n",
            "INFO:tensorflow:global_step/sec: 1290.29\n",
            "INFO:tensorflow:loss = 121148.555, step = 2301 (0.078 sec)\n",
            "INFO:tensorflow:global_step/sec: 1314.76\n",
            "INFO:tensorflow:loss = 120519.34, step = 2401 (0.076 sec)\n",
            "INFO:tensorflow:global_step/sec: 1271.59\n",
            "INFO:tensorflow:loss = 119904.72, step = 2501 (0.081 sec)\n",
            "INFO:tensorflow:global_step/sec: 1253.79\n",
            "INFO:tensorflow:loss = 119303.96, step = 2601 (0.079 sec)\n",
            "INFO:tensorflow:global_step/sec: 1215.23\n",
            "INFO:tensorflow:loss = 118716.29, step = 2701 (0.080 sec)\n",
            "INFO:tensorflow:global_step/sec: 1322.07\n",
            "INFO:tensorflow:loss = 118141.02, step = 2801 (0.077 sec)\n",
            "INFO:tensorflow:global_step/sec: 1318.81\n",
            "INFO:tensorflow:loss = 117577.42, step = 2901 (0.075 sec)\n",
            "INFO:tensorflow:global_step/sec: 1274.21\n",
            "INFO:tensorflow:loss = 117025.06, step = 3001 (0.078 sec)\n",
            "INFO:tensorflow:global_step/sec: 1244.35\n",
            "INFO:tensorflow:loss = 116483.33, step = 3101 (0.080 sec)\n",
            "INFO:tensorflow:global_step/sec: 1268.22\n",
            "INFO:tensorflow:loss = 115951.62, step = 3201 (0.079 sec)\n",
            "INFO:tensorflow:global_step/sec: 1354.95\n",
            "INFO:tensorflow:loss = 115429.67, step = 3301 (0.073 sec)\n",
            "INFO:tensorflow:global_step/sec: 1353.87\n",
            "INFO:tensorflow:loss = 114917.0, step = 3401 (0.074 sec)\n",
            "INFO:tensorflow:global_step/sec: 1385.75\n",
            "INFO:tensorflow:loss = 114413.23, step = 3501 (0.072 sec)\n",
            "INFO:tensorflow:global_step/sec: 1419.14\n",
            "INFO:tensorflow:loss = 113917.875, step = 3601 (0.074 sec)\n",
            "INFO:tensorflow:global_step/sec: 1328.91\n",
            "INFO:tensorflow:loss = 113430.64, step = 3701 (0.075 sec)\n",
            "INFO:tensorflow:global_step/sec: 1356.76\n",
            "INFO:tensorflow:loss = 112951.234, step = 3801 (0.074 sec)\n",
            "INFO:tensorflow:global_step/sec: 1368.63\n",
            "INFO:tensorflow:loss = 112479.39, step = 3901 (0.070 sec)\n",
            "INFO:tensorflow:Saving checkpoints for 4000 into outdir/model.ckpt.\n",
            "INFO:tensorflow:Loss for final step: 112019.37.\n"
          ],
          "name": "stdout"
        },
        {
          "output_type": "execute_result",
          "data": {
            "text/plain": [
              "<tensorflow.python.estimator.canned.linear.LinearRegressor at 0x7f0ad51c2320>"
            ]
          },
          "metadata": {
            "tags": []
          },
          "execution_count": 23
        }
      ]
    },
    {
      "metadata": {
        "id": "NmuZ7_X_hoO1",
        "colab_type": "code",
        "colab": {}
      },
      "cell_type": "code",
      "source": [
        "? tf.estimator.LinearRegressor"
      ],
      "execution_count": 0,
      "outputs": []
    },
    {
      "metadata": {
        "id": "ZdBPSgk2g5M0",
        "colab_type": "code",
        "colab": {}
      },
      "cell_type": "code",
      "source": [
        "? model.train()"
      ],
      "execution_count": 0,
      "outputs": []
    },
    {
      "metadata": {
        "id": "6OtJdn7vd18a",
        "colab_type": "code",
        "colab": {
          "base_uri": "https://localhost:8080/",
          "height": 35
        },
        "outputId": "d60d55ae-e2c9-417f-b5c3-e2050b6db716"
      },
      "cell_type": "code",
      "source": [
        "! ls"
      ],
      "execution_count": 22,
      "outputs": [
        {
          "output_type": "stream",
          "text": [
            "outdir\tsample_data\n"
          ],
          "name": "stdout"
        }
      ]
    },
    {
      "metadata": {
        "id": "saL81M5Hd4ch",
        "colab_type": "code",
        "colab": {
          "base_uri": "https://localhost:8080/",
          "height": 35
        },
        "outputId": "0cb337d7-61ef-42e0-8bb1-4bc910bed6e8"
      },
      "cell_type": "code",
      "source": [
        "!cat outdir"
      ],
      "execution_count": 21,
      "outputs": [
        {
          "output_type": "stream",
          "text": [
            "cat: outdir: Is a directory\n"
          ],
          "name": "stdout"
        }
      ]
    },
    {
      "metadata": {
        "id": "jkjNQN67bLsi",
        "colab_type": "code",
        "colab": {
          "base_uri": "https://localhost:8080/",
          "height": 231
        },
        "outputId": "6c115010-a3cb-48d1-a75d-a9843916f0da"
      },
      "cell_type": "code",
      "source": [
        "def predict_input_fn():\n",
        "    features = {\"sq_footage\": [1500, 1500, 2500, 2500],\n",
        "                \"type\": [\"house\", \"apt\", \"house\", \"apt\"]}\n",
        "    return features\n",
        "\n",
        "predictions = model.predict(predict_input_fn)\n",
        "\n",
        "print(next(predictions))\n",
        "print(next(predictions))\n",
        "print(next(predictions))\n",
        "print(next(predictions))"
      ],
      "execution_count": 36,
      "outputs": [
        {
          "output_type": "stream",
          "text": [
            "WARNING:tensorflow:Input graph does not use tf.data.Dataset or contain a QueueRunner. That means predict yields forever. This is probably a mistake.\n",
            "INFO:tensorflow:Calling model_fn.\n",
            "INFO:tensorflow:Done calling model_fn.\n",
            "INFO:tensorflow:Graph was finalized.\n",
            "INFO:tensorflow:Restoring parameters from outdir/model.ckpt-4000\n",
            "INFO:tensorflow:Running local_init_op.\n",
            "INFO:tensorflow:Done running local_init_op.\n",
            "{'predictions': array([837.7466], dtype=float32)}\n",
            "{'predictions': array([879.30225], dtype=float32)}\n",
            "{'predictions': array([1407.521], dtype=float32)}\n",
            "{'predictions': array([1449.0767], dtype=float32)}\n"
          ],
          "name": "stdout"
        }
      ]
    },
    {
      "metadata": {
        "id": "ZZH3Sjqgn78j",
        "colab_type": "code",
        "colab": {}
      },
      "cell_type": "code",
      "source": [
        ""
      ],
      "execution_count": 0,
      "outputs": []
    }
  ]
}