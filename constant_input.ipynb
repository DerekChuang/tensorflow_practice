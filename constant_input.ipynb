{
  "nbformat": 4,
  "nbformat_minor": 0,
  "metadata": {
    "colab": {
      "name": "constant_input.ipynb",
      "version": "0.3.2",
      "provenance": [],
      "collapsed_sections": [],
      "include_colab_link": true
    },
    "kernelspec": {
      "name": "python3",
      "display_name": "Python 3"
    }
  },
  "cells": [
    {
      "cell_type": "markdown",
      "metadata": {
        "id": "view-in-github",
        "colab_type": "text"
      },
      "source": [
        "[View in Colaboratory](https://colab.research.google.com/github/DerekChuang/tensorflow_practice/blob/master/constant_input.ipynb)"
      ]
    },
    {
      "metadata": {
        "id": "m-2MWagHan42",
        "colab_type": "code",
        "colab": {}
      },
      "cell_type": "code",
      "source": [
        "\n",
        "import tensorflow as tf\n",
        "import numpy as np\n",
        "import shutil"
      ],
      "execution_count": 0,
      "outputs": []
    },
    {
      "metadata": {
        "id": "k7MGsMgSby1j",
        "colab_type": "code",
        "outputId": "bafa2bea-42e6-4212-aff9-bbf781401b7b",
        "colab": {
          "base_uri": "https://localhost:8080/",
          "height": 35
        }
      },
      "cell_type": "code",
      "source": [
        "! ls"
      ],
      "execution_count": 7,
      "outputs": [
        {
          "output_type": "stream",
          "text": [
            "outdir\tsample_data\n"
          ],
          "name": "stdout"
        }
      ]
    },
    {
      "metadata": {
        "id": "EQxCHpQ2bIjM",
        "colab_type": "code",
        "colab": {}
      },
      "cell_type": "code",
      "source": [
        "shutil.rmtree(\"outdir\", ignore_errors = True) # start fresh each time\n"
      ],
      "execution_count": 0,
      "outputs": []
    },
    {
      "metadata": {
        "id": "FC3ouHUzcVU7",
        "colab_type": "text"
      },
      "cell_type": "markdown",
      "source": [
        "import shutil\n",
        "shutil.rmtree(\"C:\\\\FolderName\\\\SubFolder\")\n",
        "#醬就可以把下面的目錄和 SubFolder 都刪除的說\n",
        "\"\"\"\n",
        "注意事項\n",
        "Description: shutil.rmtree(path, ignore_errors=False, onerror=None)\n",
        "Docstring: Recursively delete a directory tree.\n",
        " \n",
        "    If ignore_errors is set, errors are ignored; otherwise, if onerror is set, it is called\n",
        "to handle the error with arguments (func, path, exc_info) where func is os.listdir,\n",
        "os.remove, or os.rmdir; path is the argument to that function that caused it to fail;\n",
        "and exc_info is a tuple returned by sys.exc_info(). If ignore_errors is false and onerror is\n",
        "None, an exception is raised.\n",
        " \n",
        "\"\"\""
      ]
    },
    {
      "metadata": {
        "id": "9hJ8Oj1cb4tI",
        "colab_type": "code",
        "outputId": "f1dd0ad9-2aa0-48da-95b2-111535f25b6a",
        "colab": {
          "base_uri": "https://localhost:8080/",
          "height": 35
        }
      },
      "cell_type": "code",
      "source": [
        "! ls"
      ],
      "execution_count": 9,
      "outputs": [
        {
          "output_type": "stream",
          "text": [
            "sample_data\n"
          ],
          "name": "stdout"
        }
      ]
    },
    {
      "metadata": {
        "id": "IW9RJx98cdwp",
        "colab_type": "code",
        "outputId": "d7306dc7-3936-44a0-b501-bf244657b7f2",
        "colab": {
          "base_uri": "https://localhost:8080/",
          "height": 35
        }
      },
      "cell_type": "code",
      "source": [
        "! cat sample_data"
      ],
      "execution_count": 10,
      "outputs": [
        {
          "output_type": "stream",
          "text": [
            "cat: sample_data: Is a directory\n"
          ],
          "name": "stdout"
        }
      ]
    },
    {
      "metadata": {
        "id": "OVgvXahLehHE",
        "colab_type": "text"
      },
      "cell_type": "markdown",
      "source": [
        "# ** 特徵 & model  **   "
      ]
    },
    {
      "metadata": {
        "id": "K8uqNx3SeQHb",
        "colab_type": "code",
        "colab": {
          "base_uri": "https://localhost:8080/",
          "height": 178
        },
        "outputId": "c93de6aa-6353-4be2-eebf-933f1472859c"
      },
      "cell_type": "code",
      "source": [
        "featcols = [\n",
        "    tf.feature_column.numeric_column(\"sq_footage\"),\n",
        "    tf.feature_column.categorical_column_with_vocabulary_list(\"type\", [\"house\", \"apt\"])\n",
        "]\n",
        "\n",
        "model = tf.estimator.LinearRegressor(feature_columns=featcols, model_dir=\"outdir\")"
      ],
      "execution_count": 11,
      "outputs": [
        {
          "output_type": "stream",
          "text": [
            "INFO:tensorflow:Using default config.\n",
            "INFO:tensorflow:Using config: {'_model_dir': 'outdir', '_tf_random_seed': None, '_save_summary_steps': 100, '_save_checkpoints_steps': None, '_save_checkpoints_secs': 600, '_session_config': allow_soft_placement: true\n",
            "graph_options {\n",
            "  rewrite_options {\n",
            "    meta_optimizer_iterations: ONE\n",
            "  }\n",
            "}\n",
            ", '_keep_checkpoint_max': 5, '_keep_checkpoint_every_n_hours': 10000, '_log_step_count_steps': 100, '_train_distribute': None, '_device_fn': None, '_protocol': None, '_eval_distribute': None, '_experimental_distribute': None, '_service': None, '_cluster_spec': <tensorflow.python.training.server_lib.ClusterSpec object at 0x7f7e4da6d198>, '_task_type': 'worker', '_task_id': 0, '_global_id_in_cluster': 0, '_master': '', '_evaluation_master': '', '_is_chief': True, '_num_ps_replicas': 0, '_num_worker_replicas': 1}\n"
          ],
          "name": "stdout"
        }
      ]
    },
    {
      "metadata": {
        "id": "YUvBPpZzfDBx",
        "colab_type": "text"
      },
      "cell_type": "markdown",
      "source": [
        "# **Training & input data**"
      ]
    },
    {
      "metadata": {
        "id": "sK9k1bBHbJ18",
        "colab_type": "code",
        "outputId": "f63e5da4-5771-4c38-997e-b1fccb0842d7",
        "colab": {
          "base_uri": "https://localhost:8080/",
          "height": 899
        }
      },
      "cell_type": "code",
      "source": [
        "\n",
        "def train_input_fn():\n",
        "    features = {\"sq_footage\": [ 1000,    2000,    3000,    1000,  2000,  3000],\n",
        "                \"type\":       [\"house\", \"house\", \"house\", \"apt\", \"apt\", \"apt\"]}\n",
        "   \n",
        "    labels =                  [ 500,     1000,    1500,    700,   1300,  1900] # in thousands\n",
        "    \n",
        "    return features, labels\n",
        "\n",
        "\n",
        "                                     \n",
        "model.train(input_fn = train_input_fn, steps=2000)"
      ],
      "execution_count": 12,
      "outputs": [
        {
          "output_type": "stream",
          "text": [
            "INFO:tensorflow:Calling model_fn.\n",
            "INFO:tensorflow:Done calling model_fn.\n",
            "INFO:tensorflow:Create CheckpointSaverHook.\n",
            "INFO:tensorflow:Graph was finalized.\n",
            "INFO:tensorflow:Running local_init_op.\n",
            "INFO:tensorflow:Done running local_init_op.\n",
            "INFO:tensorflow:Saving checkpoints for 0 into outdir/model.ckpt.\n",
            "INFO:tensorflow:loss = 9290000.0, step = 1\n",
            "INFO:tensorflow:global_step/sec: 1019.13\n",
            "INFO:tensorflow:loss = 144242.62, step = 101 (0.103 sec)\n",
            "INFO:tensorflow:global_step/sec: 1492.68\n",
            "INFO:tensorflow:loss = 142023.2, step = 201 (0.064 sec)\n",
            "INFO:tensorflow:global_step/sec: 1460.42\n",
            "INFO:tensorflow:loss = 140171.67, step = 301 (0.071 sec)\n",
            "INFO:tensorflow:global_step/sec: 1345.63\n",
            "INFO:tensorflow:loss = 138553.88, step = 401 (0.072 sec)\n",
            "INFO:tensorflow:global_step/sec: 1444.69\n",
            "INFO:tensorflow:loss = 137101.47, step = 501 (0.069 sec)\n",
            "INFO:tensorflow:global_step/sec: 1518.03\n",
            "INFO:tensorflow:loss = 135774.66, step = 601 (0.066 sec)\n",
            "INFO:tensorflow:global_step/sec: 1550.68\n",
            "INFO:tensorflow:loss = 134547.11, step = 701 (0.065 sec)\n",
            "INFO:tensorflow:global_step/sec: 1433.64\n",
            "INFO:tensorflow:loss = 133400.81, step = 801 (0.074 sec)\n",
            "INFO:tensorflow:global_step/sec: 1562.65\n",
            "INFO:tensorflow:loss = 132322.64, step = 901 (0.062 sec)\n",
            "INFO:tensorflow:global_step/sec: 1601.94\n",
            "INFO:tensorflow:loss = 131302.42, step = 1001 (0.060 sec)\n",
            "INFO:tensorflow:global_step/sec: 1552.5\n",
            "INFO:tensorflow:loss = 130332.56, step = 1101 (0.066 sec)\n",
            "INFO:tensorflow:global_step/sec: 1420.7\n",
            "INFO:tensorflow:loss = 129406.89, step = 1201 (0.071 sec)\n",
            "INFO:tensorflow:global_step/sec: 1538.56\n",
            "INFO:tensorflow:loss = 128520.266, step = 1301 (0.065 sec)\n",
            "INFO:tensorflow:global_step/sec: 1494.26\n",
            "INFO:tensorflow:loss = 127668.74, step = 1401 (0.068 sec)\n",
            "INFO:tensorflow:global_step/sec: 1469.1\n",
            "INFO:tensorflow:loss = 126848.92, step = 1501 (0.066 sec)\n",
            "INFO:tensorflow:global_step/sec: 1503.67\n",
            "INFO:tensorflow:loss = 126057.62, step = 1601 (0.066 sec)\n",
            "INFO:tensorflow:global_step/sec: 708.026\n",
            "INFO:tensorflow:loss = 125292.484, step = 1701 (0.140 sec)\n",
            "INFO:tensorflow:global_step/sec: 1516.49\n",
            "INFO:tensorflow:loss = 124551.48, step = 1801 (0.066 sec)\n",
            "INFO:tensorflow:global_step/sec: 1575.12\n",
            "INFO:tensorflow:loss = 123832.59, step = 1901 (0.064 sec)\n",
            "INFO:tensorflow:Saving checkpoints for 2000 into outdir/model.ckpt.\n",
            "INFO:tensorflow:Loss for final step: 123141.125.\n"
          ],
          "name": "stdout"
        },
        {
          "output_type": "execute_result",
          "data": {
            "text/plain": [
              "<tensorflow.python.estimator.canned.linear.LinearRegressor at 0x7f7e4daddfd0>"
            ]
          },
          "metadata": {
            "tags": []
          },
          "execution_count": 12
        }
      ]
    },
    {
      "metadata": {
        "id": "NmuZ7_X_hoO1",
        "colab_type": "code",
        "colab": {}
      },
      "cell_type": "code",
      "source": [
        "#? tf.estimator.LinearRegressor"
      ],
      "execution_count": 0,
      "outputs": []
    },
    {
      "metadata": {
        "id": "ZdBPSgk2g5M0",
        "colab_type": "code",
        "colab": {}
      },
      "cell_type": "code",
      "source": [
        "#? model.train()"
      ],
      "execution_count": 0,
      "outputs": []
    },
    {
      "metadata": {
        "id": "6OtJdn7vd18a",
        "colab_type": "code",
        "outputId": "096c3301-5ce8-4ad0-bc46-f9ae12350bad",
        "colab": {
          "base_uri": "https://localhost:8080/",
          "height": 35
        }
      },
      "cell_type": "code",
      "source": [
        "! ls"
      ],
      "execution_count": 15,
      "outputs": [
        {
          "output_type": "stream",
          "text": [
            "outdir\tsample_data\n"
          ],
          "name": "stdout"
        }
      ]
    },
    {
      "metadata": {
        "id": "saL81M5Hd4ch",
        "colab_type": "code",
        "outputId": "8440524b-5ec6-4ebf-89fb-31e29d906ad3",
        "colab": {
          "base_uri": "https://localhost:8080/",
          "height": 35
        }
      },
      "cell_type": "code",
      "source": [
        "!cat outdir"
      ],
      "execution_count": 16,
      "outputs": [
        {
          "output_type": "stream",
          "text": [
            "cat: outdir: Is a directory\n"
          ],
          "name": "stdout"
        }
      ]
    },
    {
      "metadata": {
        "id": "d-cNZkuHfXhH",
        "colab_type": "text"
      },
      "cell_type": "markdown",
      "source": [
        ""
      ]
    },
    {
      "metadata": {
        "id": "jkjNQN67bLsi",
        "colab_type": "code",
        "outputId": "9b4a5f7f-1061-43c4-eada-6637450ede75",
        "colab": {
          "base_uri": "https://localhost:8080/",
          "height": 266
        }
      },
      "cell_type": "code",
      "source": [
        "def predict_input_fn():\n",
        "    features = {\"sq_footage\": [1500, 1500, 2500, 2500],\n",
        "                \"type\": [\"house\", \"apt\", \"house\", \"apt\"]}\n",
        "    return features\n",
        "\n",
        "predictions = model.predict( input_fn = predict_input_fn)\n",
        "\n",
        "print(next(predictions))\n",
        "print(next(predictions))\n",
        "print(next(predictions))\n",
        "print(next(predictions))\n",
        "print(next(predictions))\n",
        "print(next(predictions))"
      ],
      "execution_count": 17,
      "outputs": [
        {
          "output_type": "stream",
          "text": [
            "WARNING:tensorflow:Input graph does not use tf.data.Dataset or contain a QueueRunner. That means predict yields forever. This is probably a mistake.\n",
            "INFO:tensorflow:Calling model_fn.\n",
            "INFO:tensorflow:Done calling model_fn.\n",
            "INFO:tensorflow:Graph was finalized.\n",
            "INFO:tensorflow:Restoring parameters from outdir/model.ckpt-2000\n",
            "INFO:tensorflow:Running local_init_op.\n",
            "INFO:tensorflow:Done running local_init_op.\n",
            "{'predictions': array([844.07806], dtype=float32)}\n",
            "{'predictions': array([871.82715], dtype=float32)}\n",
            "{'predictions': array([1414.5388], dtype=float32)}\n",
            "{'predictions': array([1442.2878], dtype=float32)}\n",
            "{'predictions': array([844.07806], dtype=float32)}\n",
            "{'predictions': array([871.82715], dtype=float32)}\n"
          ],
          "name": "stdout"
        }
      ]
    },
    {
      "metadata": {
        "id": "CRfwtqRCh84N",
        "colab_type": "text"
      },
      "cell_type": "markdown",
      "source": [
        "python yield 語法與 generator 物件介紹\n",
        "    這篇介紹 yield 語法以及用來維護 yield 行為的 generator 物件。\n",
        "    事實上，yield 和 return 很像，只是當函數呼叫 return 時，該函數 call stack (python 中是 frame) 就會被清除，程式主導權回到呼叫該函數的手上。 而 yield 會把程式主導權交給呼叫該函數的手上，但是他不會把函數的 call stack 清除，因此下次呼叫時，可以從上次未執行的部分開始執行，而不是重新建立一個新 stack。\n"
      ]
    },
    {
      "metadata": {
        "id": "PwEW7F3OivRS",
        "colab_type": "text"
      },
      "cell_type": "markdown",
      "source": [
        "https://blog.blackwhite.tw/2013/05/python-yield-generator.html"
      ]
    },
    {
      "metadata": {
        "id": "YcOa4gHoiv9a",
        "colab_type": "code",
        "colab": {}
      },
      "cell_type": "code",
      "source": [
        "#for n in predictions:\n",
        "#  print(n)\n",
        "#https://www.liaoxuefeng.com/wiki/0014316089557264a6b348958f449949df42a6d3a2e542c000/0014317799226173f45ce40636141b6abc8424e12b5fb27000"
      ],
      "execution_count": 0,
      "outputs": []
    },
    {
      "metadata": {
        "id": "6N8mghqgnM12",
        "colab_type": "code",
        "colab": {}
      },
      "cell_type": "code",
      "source": [
        "#https://www.tensorflow.org/api_docs/python/tf/estimator/BaselineClassifier?hl=zh-cn#predict"
      ],
      "execution_count": 0,
      "outputs": []
    },
    {
      "metadata": {
        "id": "zaAT_tgzn31p",
        "colab_type": "code",
        "colab": {}
      },
      "cell_type": "code",
      "source": [
        ""
      ],
      "execution_count": 0,
      "outputs": []
    },
    {
      "metadata": {
        "id": "VRokfiUtpMor",
        "colab_type": "text"
      },
      "cell_type": "markdown",
      "source": [
        "# 用DNN模型    不好的例子"
      ]
    },
    {
      "metadata": {
        "id": "ut5DgTbMrDaE",
        "colab_type": "code",
        "colab": {}
      },
      "cell_type": "code",
      "source": [
        "shutil.rmtree(\"outdir\", ignore_errors = True) # start fresh each time\n"
      ],
      "execution_count": 0,
      "outputs": []
    },
    {
      "metadata": {
        "id": "gFxl4qqEpU1L",
        "colab_type": "code",
        "colab": {
          "base_uri": "https://localhost:8080/",
          "height": 178
        },
        "outputId": "33150311-999f-4f7e-e97e-663815214cf1"
      },
      "cell_type": "code",
      "source": [
        "categorical_column = tf.feature_column.categorical_column_with_vocabulary_list(key = \"type\", vocabulary_list = [\"house\", \"apt\"])\n",
        "#https://stackoverflow.com/questions/48614819/items-of-feature-columns-must-be-a-featurecolumn-given-vocabularylistcategori\n",
        "\n",
        "featcols = [\n",
        "    tf.feature_column.numeric_column(key = \"sq_footage\"),\n",
        "    tf.feature_column.indicator_column(categorical_column),\n",
        "]\n",
        "\n",
        "dnn_model = tf.estimator.DNNRegressor(feature_columns=featcols,\n",
        "                                      hidden_units=[3,2], model_dir=\"outdir1\")\n",
        "\n",
        "\n",
        "\n"
      ],
      "execution_count": 49,
      "outputs": [
        {
          "output_type": "stream",
          "text": [
            "INFO:tensorflow:Using default config.\n",
            "INFO:tensorflow:Using config: {'_model_dir': 'outdir1', '_tf_random_seed': None, '_save_summary_steps': 100, '_save_checkpoints_steps': None, '_save_checkpoints_secs': 600, '_session_config': allow_soft_placement: true\n",
            "graph_options {\n",
            "  rewrite_options {\n",
            "    meta_optimizer_iterations: ONE\n",
            "  }\n",
            "}\n",
            ", '_keep_checkpoint_max': 5, '_keep_checkpoint_every_n_hours': 10000, '_log_step_count_steps': 100, '_train_distribute': None, '_device_fn': None, '_protocol': None, '_eval_distribute': None, '_experimental_distribute': None, '_service': None, '_cluster_spec': <tensorflow.python.training.server_lib.ClusterSpec object at 0x7f7e4994deb8>, '_task_type': 'worker', '_task_id': 0, '_global_id_in_cluster': 0, '_master': '', '_evaluation_master': '', '_is_chief': True, '_num_ps_replicas': 0, '_num_worker_replicas': 1}\n"
          ],
          "name": "stdout"
        }
      ]
    },
    {
      "metadata": {
        "id": "jIGoBO1DqSJX",
        "colab_type": "code",
        "colab": {
          "base_uri": "https://localhost:8080/",
          "height": 35
        },
        "outputId": "b5aee2ba-2e8e-4774-a139-12a772ca5c9e"
      },
      "cell_type": "code",
      "source": [
        "!ls"
      ],
      "execution_count": 50,
      "outputs": [
        {
          "output_type": "stream",
          "text": [
            "sample_data\n"
          ],
          "name": "stdout"
        }
      ]
    },
    {
      "metadata": {
        "id": "ORV27eltqFte",
        "colab_type": "code",
        "colab": {
          "base_uri": "https://localhost:8080/",
          "height": 952
        },
        "outputId": "4c0ffff1-3c6a-412f-a9b8-6b85f83d1523"
      },
      "cell_type": "code",
      "source": [
        "def train_input_fn():\n",
        "    features = {\"sq_footage\": [ 1000,    2000,    3000,    1000,  2000,  3000],\n",
        "                \"type\":       [\"house\", \"house\", \"house\", \"apt\", \"apt\", \"apt\"]}\n",
        "   \n",
        "    labels =                  [ 500,     1000,    1500,    700,   1300,  1900] # in thousands\n",
        "    \n",
        "    return features, labels\n",
        "\n",
        "\n",
        "\n",
        "\n",
        "dnn_model.train(input_fn = train_input_fn, steps=2000)"
      ],
      "execution_count": 51,
      "outputs": [
        {
          "output_type": "stream",
          "text": [
            "INFO:tensorflow:Calling model_fn.\n",
            "WARNING:tensorflow:From /usr/local/lib/python3.6/dist-packages/tensorflow/python/ops/sparse_ops.py:1165: sparse_to_dense (from tensorflow.python.ops.sparse_ops) is deprecated and will be removed in a future version.\n",
            "Instructions for updating:\n",
            "Create a `tf.sparse.SparseTensor` and use `tf.sparse.to_dense` instead.\n",
            "INFO:tensorflow:Done calling model_fn.\n",
            "INFO:tensorflow:Create CheckpointSaverHook.\n",
            "INFO:tensorflow:Graph was finalized.\n",
            "INFO:tensorflow:Running local_init_op.\n",
            "INFO:tensorflow:Done running local_init_op.\n",
            "INFO:tensorflow:Saving checkpoints for 0 into outdir1/model.ckpt.\n",
            "INFO:tensorflow:loss = 23903100.0, step = 1\n",
            "INFO:tensorflow:global_step/sec: 1120.79\n",
            "INFO:tensorflow:loss = 9553506.0, step = 101 (0.091 sec)\n",
            "INFO:tensorflow:global_step/sec: 1500.91\n",
            "INFO:tensorflow:loss = 9272919.0, step = 201 (0.067 sec)\n",
            "INFO:tensorflow:global_step/sec: 1579.3\n",
            "INFO:tensorflow:loss = 9268722.0, step = 301 (0.064 sec)\n",
            "INFO:tensorflow:global_step/sec: 1484.06\n",
            "INFO:tensorflow:loss = 9265143.0, step = 401 (0.067 sec)\n",
            "INFO:tensorflow:global_step/sec: 1473.75\n",
            "INFO:tensorflow:loss = 9261968.0, step = 501 (0.071 sec)\n",
            "INFO:tensorflow:global_step/sec: 1545.01\n",
            "INFO:tensorflow:loss = 9259088.0, step = 601 (0.061 sec)\n",
            "INFO:tensorflow:global_step/sec: 1559.33\n",
            "INFO:tensorflow:loss = 9256432.0, step = 701 (0.064 sec)\n",
            "INFO:tensorflow:global_step/sec: 1546.23\n",
            "INFO:tensorflow:loss = 9253954.0, step = 801 (0.065 sec)\n",
            "INFO:tensorflow:global_step/sec: 1592.43\n",
            "INFO:tensorflow:loss = 9251624.0, step = 901 (0.063 sec)\n",
            "INFO:tensorflow:global_step/sec: 1638.11\n",
            "INFO:tensorflow:loss = 9249417.0, step = 1001 (0.061 sec)\n",
            "INFO:tensorflow:global_step/sec: 1611.47\n",
            "INFO:tensorflow:loss = 9247316.0, step = 1101 (0.062 sec)\n",
            "INFO:tensorflow:global_step/sec: 1642.22\n",
            "INFO:tensorflow:loss = 9245308.0, step = 1201 (0.061 sec)\n",
            "INFO:tensorflow:global_step/sec: 1552.02\n",
            "INFO:tensorflow:loss = 9243380.0, step = 1301 (0.064 sec)\n",
            "INFO:tensorflow:global_step/sec: 1626.92\n",
            "INFO:tensorflow:loss = 9241525.0, step = 1401 (0.064 sec)\n",
            "INFO:tensorflow:global_step/sec: 1653.59\n",
            "INFO:tensorflow:loss = 9239733.0, step = 1501 (0.059 sec)\n",
            "INFO:tensorflow:global_step/sec: 1625.88\n",
            "INFO:tensorflow:loss = 9238000.0, step = 1601 (0.060 sec)\n",
            "INFO:tensorflow:global_step/sec: 1475.36\n",
            "INFO:tensorflow:loss = 9236320.0, step = 1701 (0.068 sec)\n",
            "INFO:tensorflow:global_step/sec: 1502.19\n",
            "INFO:tensorflow:loss = 9234688.0, step = 1801 (0.067 sec)\n",
            "INFO:tensorflow:global_step/sec: 769.504\n",
            "INFO:tensorflow:loss = 9233101.0, step = 1901 (0.129 sec)\n",
            "INFO:tensorflow:Saving checkpoints for 2000 into outdir1/model.ckpt.\n",
            "INFO:tensorflow:Loss for final step: 9231570.0.\n"
          ],
          "name": "stdout"
        },
        {
          "output_type": "execute_result",
          "data": {
            "text/plain": [
              "<tensorflow.python.estimator.canned.dnn.DNNRegressor at 0x7f7e4994dc18>"
            ]
          },
          "metadata": {
            "tags": []
          },
          "execution_count": 51
        }
      ]
    },
    {
      "metadata": {
        "id": "PZyr1-ktrU8J",
        "colab_type": "code",
        "colab": {
          "base_uri": "https://localhost:8080/",
          "height": 35
        },
        "outputId": "af152b11-21dd-44bb-ff3e-95ec79da454c"
      },
      "cell_type": "code",
      "source": [
        "! ls"
      ],
      "execution_count": 52,
      "outputs": [
        {
          "output_type": "stream",
          "text": [
            "outdir1  sample_data\n"
          ],
          "name": "stdout"
        }
      ]
    },
    {
      "metadata": {
        "id": "2LscyhIpxBNx",
        "colab_type": "code",
        "colab": {
          "base_uri": "https://localhost:8080/",
          "height": 266
        },
        "outputId": "283c601d-f00b-4d4f-bb17-075f1e9be16c"
      },
      "cell_type": "code",
      "source": [
        "def predict_input_fn():\n",
        "    features = {\"sq_footage\": [1500, 1500, 2500, 2500],\n",
        "                \"type\": [\"house\", \"apt\", \"house\", \"apt\"]}\n",
        "    return features\n",
        "\n",
        "predictions = dnn_model.predict( input_fn = predict_input_fn)\n",
        "\n",
        "print(next(predictions))\n",
        "print(next(predictions))\n",
        "print(next(predictions))\n",
        "print(next(predictions))\n",
        "print(next(predictions))\n",
        "print(next(predictions))"
      ],
      "execution_count": 53,
      "outputs": [
        {
          "output_type": "stream",
          "text": [
            "WARNING:tensorflow:Input graph does not use tf.data.Dataset or contain a QueueRunner. That means predict yields forever. This is probably a mistake.\n",
            "INFO:tensorflow:Calling model_fn.\n",
            "INFO:tensorflow:Done calling model_fn.\n",
            "INFO:tensorflow:Graph was finalized.\n",
            "INFO:tensorflow:Restoring parameters from outdir1/model.ckpt-2000\n",
            "INFO:tensorflow:Running local_init_op.\n",
            "INFO:tensorflow:Done running local_init_op.\n",
            "{'predictions': array([4.243017], dtype=float32)}\n",
            "{'predictions': array([4.243017], dtype=float32)}\n",
            "{'predictions': array([4.243017], dtype=float32)}\n",
            "{'predictions': array([4.243017], dtype=float32)}\n",
            "{'predictions': array([4.243017], dtype=float32)}\n",
            "{'predictions': array([4.243017], dtype=float32)}\n"
          ],
          "name": "stdout"
        }
      ]
    },
    {
      "metadata": {
        "id": "yqV7IxTzxIXb",
        "colab_type": "code",
        "colab": {}
      },
      "cell_type": "code",
      "source": [
        ""
      ],
      "execution_count": 0,
      "outputs": []
    }
  ]
}