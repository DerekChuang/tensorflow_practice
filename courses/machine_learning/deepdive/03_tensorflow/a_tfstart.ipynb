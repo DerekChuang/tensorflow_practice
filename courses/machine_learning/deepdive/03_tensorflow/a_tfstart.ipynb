{
  "nbformat": 4,
  "nbformat_minor": 0,
  "metadata": {
    "colab": {
      "name": "a_tfstart.ipynb",
      "version": "0.3.2",
      "provenance": []
    },
    "kernelspec": {
      "display_name": "Python 3",
      "language": "python",
      "name": "python3"
    }
  },
  "cells": [
    {
      "metadata": {
        "id": "VkLVPF9NDO1K",
        "colab_type": "text"
      },
      "cell_type": "markdown",
      "source": [
        "<h1> Getting started with TensorFlow </h1>\n",
        "\n",
        "In this notebook, you play around with the TensorFlow Python API."
      ]
    },
    {
      "metadata": {
        "id": "W-01VshQDO1i",
        "colab_type": "code",
        "colab": {
          "base_uri": "https://localhost:8080/",
          "height": 34
        },
        "outputId": "42b07b94-3d87-468d-871e-02396fef0709"
      },
      "cell_type": "code",
      "source": [
        "import tensorflow as tf\n",
        "import numpy as np\n",
        "\n",
        "print(tf.__version__)"
      ],
      "execution_count": 1,
      "outputs": [
        {
          "output_type": "stream",
          "text": [
            "1.11.0\n"
          ],
          "name": "stdout"
        }
      ]
    },
    {
      "metadata": {
        "id": "vL0214inDO2p",
        "colab_type": "text"
      },
      "cell_type": "markdown",
      "source": [
        "<h2> Adding two tensors </h2>\n",
        "\n",
        "First, let's try doing this using numpy, the Python numeric package. numpy code is immediately evaluated."
      ]
    },
    {
      "metadata": {
        "id": "kuc7amQTDO2w",
        "colab_type": "code",
        "colab": {
          "base_uri": "https://localhost:8080/",
          "height": 34
        },
        "outputId": "3fd1c981-b617-4c51-affd-049054935a9e"
      },
      "cell_type": "code",
      "source": [
        "a = np.array([5, 3, 8])\n",
        "b = np.array([3, -1, 2])\n",
        "c = np.add(a, b)\n",
        "print(c)"
      ],
      "execution_count": 2,
      "outputs": [
        {
          "output_type": "stream",
          "text": [
            "[ 8  2 10]\n"
          ],
          "name": "stdout"
        }
      ]
    },
    {
      "metadata": {
        "id": "pGuGXV-FDO3S",
        "colab_type": "text"
      },
      "cell_type": "markdown",
      "source": [
        "The equivalent code in TensorFlow consists of two steps:\n",
        "<p>\n",
        "<h3> Step 1: Build the graph </h3>"
      ]
    },
    {
      "metadata": {
        "id": "p5ijLyHvDO3Y",
        "colab_type": "code",
        "colab": {
          "base_uri": "https://localhost:8080/",
          "height": 34
        },
        "outputId": "62d1e892-2166-418e-a680-5767bc28e4a3"
      },
      "cell_type": "code",
      "source": [
        "a = tf.constant([5, 3, 8])\n",
        "b = tf.constant([3, -1, 2])\n",
        "c = tf.add(a, b)\n",
        "print(c)"
      ],
      "execution_count": 3,
      "outputs": [
        {
          "output_type": "stream",
          "text": [
            "Tensor(\"Add:0\", shape=(3,), dtype=int32)\n"
          ],
          "name": "stdout"
        }
      ]
    },
    {
      "metadata": {
        "id": "Tl4_wxoEDO4H",
        "colab_type": "text"
      },
      "cell_type": "markdown",
      "source": [
        "c is an Op (\"Add\") that returns a tensor of shape (3,) and holds int32. The shape is inferred from the computation graph.\n",
        "\n",
        "Try the following in the cell above:\n",
        "<ol>\n",
        "<li> Change the 5 to 5.0, and similarly the other five numbers. What happens when you run this cell? </li>\n",
        "<li> Add an extra number to a, but leave b at the original (3,) shape. What happens when you run this cell? </li>\n",
        "<li> Change the code back to a version that works </li>\n",
        "</ol>\n",
        "\n",
        "<p/>\n",
        "<h3> Step 2: Run the graph"
      ]
    },
    {
      "metadata": {
        "id": "KoyQlxeUDO4N",
        "colab_type": "code",
        "colab": {
          "base_uri": "https://localhost:8080/",
          "height": 34
        },
        "outputId": "f1dcb618-769b-41e6-8719-882a6a08750e"
      },
      "cell_type": "code",
      "source": [
        "with tf.Session() as sess:\n",
        "  result = sess.run(c)\n",
        "  print(result)"
      ],
      "execution_count": 4,
      "outputs": [
        {
          "output_type": "stream",
          "text": [
            "[ 8  2 10]\n"
          ],
          "name": "stdout"
        }
      ]
    },
    {
      "metadata": {
        "id": "gJ6pb7zlDO4u",
        "colab_type": "text"
      },
      "cell_type": "markdown",
      "source": [
        "<h2> Using a feed_dict </h2>\n",
        "\n",
        "Same graph, but without hardcoding inputs at build stage"
      ]
    },
    {
      "metadata": {
        "id": "Qx_n0hXgDO46",
        "colab_type": "code",
        "colab": {
          "base_uri": "https://localhost:8080/",
          "height": 34
        },
        "outputId": "0a7b0d80-8a63-488b-c8bc-29395ac9616f"
      },
      "cell_type": "code",
      "source": [
        "a = tf.placeholder(dtype=tf.int32, shape=(None,))  # batchsize x scalar\n",
        "b = tf.placeholder(dtype=tf.int32, shape=(None,))\n",
        "c = tf.add(a, b)\n",
        "with tf.Session() as sess:\n",
        "  result = sess.run(c, feed_dict={\n",
        "      a: [3, 4, 5],\n",
        "      b: [-1, 2, 3]\n",
        "    })\n",
        "  print(result)"
      ],
      "execution_count": 5,
      "outputs": [
        {
          "output_type": "stream",
          "text": [
            "[2 6 8]\n"
          ],
          "name": "stdout"
        }
      ]
    },
    {
      "metadata": {
        "id": "JjsFuht_DO5o",
        "colab_type": "text"
      },
      "cell_type": "markdown",
      "source": [
        "<h2> Heron's Formula in TensorFlow </h2>\n",
        "\n",
        "The area of triangle whose three sides are $(a, b, c)$ is $\\sqrt{s(s-a)(s-b)(s-c)}$ where $s=\\frac{a+b+c}{2}$ \n",
        "\n",
        "Look up the available operations at https://www.tensorflow.org/api_docs/python/tf"
      ]
    },
    {
      "metadata": {
        "id": "6ls5g1PEDO5v",
        "colab_type": "code",
        "colab": {
          "base_uri": "https://localhost:8080/",
          "height": 34
        },
        "outputId": "b4c030c7-1541-4519-c5ae-de04b45a4779"
      },
      "cell_type": "code",
      "source": [
        "def compute_area(sides):\n",
        "  # slice the input to get the sides\n",
        "  a = sides[:,0]  # 5.0, 2.3\n",
        "  b = sides[:,1]  # 3.0, 4.1\n",
        "  c = sides[:,2]  # 7.1, 4.8\n",
        "  \n",
        "  # Heron's formula\n",
        "  s = (a + b + c) * 0.5   # (a + b) is a short-cut to tf.add(a, b)\n",
        "  areasq = s * (s - a) * (s - b) * (s - c) # (a * b) is a short-cut to tf.multiply(a, b), not tf.matmul(a, b)\n",
        "  return tf.sqrt(areasq)\n",
        "\n",
        "with tf.Session() as sess:\n",
        "  # pass in two triangles\n",
        "  area = compute_area(tf.constant([\n",
        "      [5.0, 3.0, 7.1],\n",
        "      [2.3, 4.1, 4.8]\n",
        "    ]))\n",
        "  result = sess.run(area)\n",
        "  print(result)"
      ],
      "execution_count": 6,
      "outputs": [
        {
          "output_type": "stream",
          "text": [
            "[6.278497 4.709139]\n"
          ],
          "name": "stdout"
        }
      ]
    },
    {
      "metadata": {
        "id": "EmgAPUNSDO6T",
        "colab_type": "text"
      },
      "cell_type": "markdown",
      "source": [
        "<h2> Placeholder and feed_dict </h2>\n",
        "\n",
        "More common is to define the input to a program as a placeholder and then to feed in the inputs. The difference between the code below and the code above is whether the \"area\" graph is coded up with the input values or whether the \"area\" graph is coded up with a placeholder through which inputs will be passed in at run-time."
      ]
    },
    {
      "metadata": {
        "id": "_jvBYefyDO6i",
        "colab_type": "code",
        "colab": {
          "base_uri": "https://localhost:8080/",
          "height": 34
        },
        "outputId": "402fe6c3-a112-4c02-bae3-9fe63197dd04"
      },
      "cell_type": "code",
      "source": [
        "with tf.Session() as sess:\n",
        "  sides = tf.placeholder(tf.float32, shape=(None, 3))  # batchsize number of triangles, 3 sides\n",
        "  area = compute_area(sides)\n",
        "  result = sess.run(area, feed_dict = {\n",
        "      sides: [\n",
        "        [5.0, 3.0, 7.1],\n",
        "        [2.3, 4.1, 4.8]\n",
        "      ]\n",
        "    })\n",
        "  print(result)"
      ],
      "execution_count": 7,
      "outputs": [
        {
          "output_type": "stream",
          "text": [
            "[6.278497 4.709139]\n"
          ],
          "name": "stdout"
        }
      ]
    },
    {
      "metadata": {
        "id": "o9Ll4JtIDO6_",
        "colab_type": "text"
      },
      "cell_type": "markdown",
      "source": [
        "## tf.eager\n",
        "\n",
        "tf.eager allows you to avoid the build-then-run stages. However, most production code will follow the lazy evaluation paradigm because the lazy evaluation paradigm is what allows for multi-device support and distribution. \n",
        "<p>\n",
        "One thing you could do is to develop using tf.eager and then comment out the eager execution and add in the session management code.\n",
        "\n",
        "<b>You may need to click on Reset Session to try this out.</b>"
      ]
    },
    {
      "metadata": {
        "id": "MV0HAHGuDO7O",
        "colab_type": "code",
        "colab": {
          "base_uri": "https://localhost:8080/",
          "height": 493
        },
        "outputId": "a049ec1a-1660-48a9-99d7-2edece5bd628"
      },
      "cell_type": "code",
      "source": [
        "import tensorflow as tf\n",
        "\n",
        "tf.enable_eager_execution()\n",
        "\n",
        "def compute_area(sides):\n",
        "  # slice the input to get the sides\n",
        "  a = sides[:,0]  # 5.0, 2.3\n",
        "  b = sides[:,1]  # 3.0, 4.1\n",
        "  c = sides[:,2]  # 7.1, 4.8\n",
        "  \n",
        "  # Heron's formula\n",
        "  s = (a + b + c) * 0.5   # (a + b) is a short-cut to tf.add(a, b)\n",
        "  areasq = s * (s - a) * (s - b) * (s - c) # (a * b) is a short-cut to tf.multiply(a, b), not tf.matmul(a, b)\n",
        "  return tf.sqrt(areasq)\n",
        "\n",
        "area = compute_area(tf.constant([\n",
        "      [5.0, 3.0, 7.1],\n",
        "      [2.3, 4.1, 4.8]\n",
        "    ]))\n",
        "\n",
        "\n",
        "print(area)"
      ],
      "execution_count": 9,
      "outputs": [
        {
          "output_type": "error",
          "ename": "ValueError",
          "evalue": "ignored",
          "traceback": [
            "\u001b[0;31m---------------------------------------------------------------------------\u001b[0m",
            "\u001b[0;31mValueError\u001b[0m                                Traceback (most recent call last)",
            "\u001b[0;32m<ipython-input-9-175a1b47716e>\u001b[0m in \u001b[0;36m<module>\u001b[0;34m()\u001b[0m\n\u001b[1;32m      1\u001b[0m \u001b[0;32mimport\u001b[0m \u001b[0mtensorflow\u001b[0m \u001b[0;32mas\u001b[0m \u001b[0mtf\u001b[0m\u001b[0;34m\u001b[0m\u001b[0m\n\u001b[1;32m      2\u001b[0m \u001b[0;34m\u001b[0m\u001b[0m\n\u001b[0;32m----> 3\u001b[0;31m \u001b[0mtf\u001b[0m\u001b[0;34m.\u001b[0m\u001b[0menable_eager_execution\u001b[0m\u001b[0;34m(\u001b[0m\u001b[0;34m)\u001b[0m\u001b[0;34m\u001b[0m\u001b[0m\n\u001b[0m\u001b[1;32m      4\u001b[0m \u001b[0;34m\u001b[0m\u001b[0m\n\u001b[1;32m      5\u001b[0m \u001b[0;32mdef\u001b[0m \u001b[0mcompute_area\u001b[0m\u001b[0;34m(\u001b[0m\u001b[0msides\u001b[0m\u001b[0;34m)\u001b[0m\u001b[0;34m:\u001b[0m\u001b[0;34m\u001b[0m\u001b[0m\n",
            "\u001b[0;32m/usr/local/lib/python3.6/dist-packages/tensorflow/python/framework/ops.py\u001b[0m in \u001b[0;36menable_eager_execution\u001b[0;34m(config, device_policy, execution_mode)\u001b[0m\n\u001b[1;32m   5418\u001b[0m         \u001b[0mdevice_policy\u001b[0m\u001b[0;34m=\u001b[0m\u001b[0mdevice_policy\u001b[0m\u001b[0;34m,\u001b[0m\u001b[0;34m\u001b[0m\u001b[0m\n\u001b[1;32m   5419\u001b[0m         \u001b[0mexecution_mode\u001b[0m\u001b[0;34m=\u001b[0m\u001b[0mexecution_mode\u001b[0m\u001b[0;34m,\u001b[0m\u001b[0;34m\u001b[0m\u001b[0m\n\u001b[0;32m-> 5420\u001b[0;31m         server_def=None)\n\u001b[0m\u001b[1;32m   5421\u001b[0m \u001b[0;34m\u001b[0m\u001b[0m\n\u001b[1;32m   5422\u001b[0m \u001b[0;34m\u001b[0m\u001b[0m\n",
            "\u001b[0;32m/usr/local/lib/python3.6/dist-packages/tensorflow/python/framework/ops.py\u001b[0m in \u001b[0;36menable_eager_execution_internal\u001b[0;34m(config, device_policy, execution_mode, server_def)\u001b[0m\n\u001b[1;32m   5462\u001b[0m     \u001b[0;32mif\u001b[0m \u001b[0mgraph_mode_has_been_used\u001b[0m\u001b[0;34m:\u001b[0m\u001b[0;34m\u001b[0m\u001b[0m\n\u001b[1;32m   5463\u001b[0m       raise ValueError(\n\u001b[0;32m-> 5464\u001b[0;31m           \"tf.enable_eager_execution must be called at program startup.\")\n\u001b[0m\u001b[1;32m   5465\u001b[0m   \u001b[0mcontext\u001b[0m\u001b[0;34m.\u001b[0m\u001b[0mdefault_execution_mode\u001b[0m \u001b[0;34m=\u001b[0m \u001b[0mcontext\u001b[0m\u001b[0;34m.\u001b[0m\u001b[0mEAGER_MODE\u001b[0m\u001b[0;34m\u001b[0m\u001b[0m\n\u001b[1;32m   5466\u001b[0m   \u001b[0;31m# pylint: disable=protected-access\u001b[0m\u001b[0;34m\u001b[0m\u001b[0;34m\u001b[0m\u001b[0m\n",
            "\u001b[0;31mValueError\u001b[0m: tf.enable_eager_execution must be called at program startup."
          ]
        }
      ]
    },
    {
      "metadata": {
        "id": "vIvZlhudDO7p",
        "colab_type": "text"
      },
      "cell_type": "markdown",
      "source": [
        "## Challenge Exercise\n",
        "\n",
        "Use TensorFlow to find the roots of a fourth-degree polynomial using [Halley's Method](https://en.wikipedia.org/wiki/Halley%27s_method).  The five coefficients (i.e. $a_0$ to $a_4$) of \n",
        "<p>\n",
        "$f(x) = a_0 + a_1 x + a_2 x^2 + a_3 x^3 + a_4 x^4$\n",
        "<p>\n",
        "will be fed into the program, as will the initial guess $x_0$. Your program will start from that initial guess and then iterate one step using the formula:\n",
        "<img src=\"https://wikimedia.org/api/rest_v1/media/math/render/svg/142614c0378a1d61cb623c1352bf85b6b7bc4397\" />\n",
        "<p>\n",
        "If you got the above easily, try iterating indefinitely until the change between $x_n$ and $x_{n+1}$ is less than some specified tolerance. Hint: Use [tf.while_loop](https://www.tensorflow.org/api_docs/python/tf/while_loop)"
      ]
    },
    {
      "metadata": {
        "id": "16NEYHmIK3mO",
        "colab_type": "code",
        "colab": {}
      },
      "cell_type": "code",
      "source": [
        ""
      ],
      "execution_count": 0,
      "outputs": []
    },
    {
      "metadata": {
        "id": "swbe9xJ0K4Cy",
        "colab_type": "code",
        "colab": {
          "base_uri": "https://localhost:8080/",
          "height": 34
        },
        "outputId": "14466f48-9513-4d0b-8953-e8ea5cb16b3a"
      },
      "cell_type": "code",
      "source": [
        "#Minimum\n",
        "\n",
        "import tensorflow as tf\n",
        "\n",
        "weights = tf.constant( [1., 2., 3., 4., 5.])\n",
        "\n",
        "x = tf.placeholder(tf.float32)\n",
        "\n",
        "with tf.Session() as sess:\n",
        "\n",
        "  result = sess.run(fxn_plus_1(x, weights), feed_dict={x: 3})\n",
        "\n",
        "  print(result)\n",
        "\n",
        "\n"
      ],
      "execution_count": 12,
      "outputs": [
        {
          "output_type": "stream",
          "text": [
            "1.6818373\n"
          ],
          "name": "stdout"
        }
      ]
    },
    {
      "metadata": {
        "id": "bIghjBwDLEC2",
        "colab_type": "code",
        "colab": {
          "base_uri": "https://localhost:8080/",
          "height": 34
        },
        "outputId": "a9c99a11-e188-42f9-a315-e7a2783072c1"
      },
      "cell_type": "code",
      "source": [
        "#Full version with while loop\n",
        "\n",
        "import tensorflow as tf\n",
        "\n",
        "def f(x, w):\n",
        "\n",
        "  return (w[0] + w[1] * x + w[2] * tf.pow(x,2) + w[3] * tf.pow(x,3) + w[4] * tf.pow(x,4) )\n",
        "\n",
        "def f1(x, w):\n",
        "\n",
        "  return (w[1] + 2. * w[2] * x + 3. * w[3] * tf.pow(x,2) + 4. * w[4] * tf.pow(x,3) )\n",
        "\n",
        "def f2(x, w):\n",
        "\n",
        "  return (2. * w[2] + 6. * w[3] * x + 12. * w[4] * tf.pow(x,2) )\n",
        "\n",
        "def fxn_plus_1(xn, w):\n",
        "\n",
        "  return (xn - (2. * f(xn, w) * f1(xn, w) / (2. * tf.square(f1(xn, w)) - f(xn, w) * f2(xn, w))))\n",
        "\n",
        "def c(x, weights):\n",
        "\n",
        "  return tf.abs(x - fxn_plus_1(x, weights)) > 0.001\n",
        "\n",
        "def b(x, weights):\n",
        "\n",
        "  x = fxn_plus_1(x, weights)\n",
        "\n",
        "  return x, weights\n",
        "\n",
        "\n",
        "weights = tf.constant( [-1000., 1., 1. , 5. , 0.1])\n",
        "\n",
        "x = fxn_plus_1(-10., weights)\n",
        "\n",
        "out = tf.while_loop(c, b, [x, weights])\n",
        "\n",
        "with tf.Session() as sess:\n",
        "\n",
        "  x, weights = sess.run(out)\n",
        "\n",
        "  print(x)"
      ],
      "execution_count": 11,
      "outputs": [
        {
          "output_type": "stream",
          "text": [
            "5.575055\n"
          ],
          "name": "stdout"
        }
      ]
    },
    {
      "metadata": {
        "id": "kXwHichvS9_w",
        "colab_type": "text"
      },
      "cell_type": "markdown",
      "source": [
        "another solution\n"
      ]
    },
    {
      "metadata": {
        "id": "Mwi0bDInS8wt",
        "colab_type": "code",
        "colab": {
          "base_uri": "https://localhost:8080/",
          "height": 68
        },
        "outputId": "41e4c9b1-dfff-4734-ab66-52576ec5aba1"
      },
      "cell_type": "code",
      "source": [
        "import tensorflow as tf\n",
        "import numpy as np\n",
        "\n",
        "print(tf.__version__)\n",
        "\n",
        "def calc_fx1(fx, x):\n",
        "    return tf.gradients(fx, x)[0]\n",
        "\n",
        "def calc_fx2(fx, x):\n",
        "    return tf.gradients(tf.gradients(fx, x)[0], x)[0] \n",
        "\n",
        "def calc_next_x(a, x, xn):\n",
        "    \n",
        "    a0 = a[:,0]\n",
        "    a1 = a[:,1]\n",
        "    a2 = a[:,2]\n",
        "    a3 = a[:,3]\n",
        "    a4 = a[:,4]\n",
        "    \n",
        "    _xn = tf.Print(xn, [x, xn], \"Args: \")\n",
        "    x = _xn\n",
        "    fx = a0 + a1*x + a2*x*x + a3*x*x*x + a4*x*x*x*x\n",
        "    fx1 = calc_fx1(fx, x)\n",
        "    fx2 = calc_fx2(fx, x)\n",
        "    \n",
        "    xn = x - (2*fx*fx1)/(2*tf.pow(tf.round(fx1), 2) - fx*fx2) \n",
        "    \n",
        "    return [a, x, xn]\n",
        "\n",
        "def condition(coeff, x, xn):\n",
        "    comp = tf.less(tf.sqrt(tf.squared_difference(xn, x)), 0.0005)\n",
        "    # is there a better way to verify that Tensor contains not all True elements?\n",
        "    return tf.less(tf.reduce_sum(tf.cast(comp, tf.float32)),x.get_shape()[0].value) \n",
        "    \n",
        "with tf.Session() as sess:\n",
        "    a = tf.constant([\n",
        "        [1.0, 3.0, -1.0, 2.0, -1.0],\n",
        "        [2.3, 4.1, 4.8, -1.0, 0.0]\n",
        "    ])  \n",
        "    x = tf.constant([0.,0.]) # initial x value\n",
        "    xn = tf.constant([100.0,-100.0])\n",
        "\n",
        "    res =  tf.while_loop(condition, calc_next_x, loop_vars = [a, x, xn], parallel_iterations=1, maximum_iterations=3000)\n",
        "    result = sess.run(res)\n",
        "    print('result:')\n",
        "    print(result[2])"
      ],
      "execution_count": 13,
      "outputs": [
        {
          "output_type": "stream",
          "text": [
            "1.11.0\n",
            "result:\n",
            "[2.2403023 5.6047435]\n"
          ],
          "name": "stdout"
        }
      ]
    },
    {
      "metadata": {
        "id": "diG_DPFvDO7w",
        "colab_type": "text"
      },
      "cell_type": "markdown",
      "source": [
        "Copyright 2017 Google Inc. Licensed under the Apache License, Version 2.0 (the \"License\"); you may not use this file except in compliance with the License. You may obtain a copy of the License at http://www.apache.org/licenses/LICENSE-2.0 Unless required by applicable law or agreed to in writing, software distributed under the License is distributed on an \"AS IS\" BASIS, WITHOUT WARRANTIES OR CONDITIONS OF ANY KIND, either express or implied. See the License for the specific language governing permissions and limitations under the License"
      ]
    }
  ]
}