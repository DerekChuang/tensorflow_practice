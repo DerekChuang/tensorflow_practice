{
  "nbformat": 4,
  "nbformat_minor": 0,
  "metadata": {
    "colab": {
      "name": "numpy_input.ipynb",
      "version": "0.3.2",
      "provenance": [],
      "collapsed_sections": [],
      "include_colab_link": true
    },
    "kernelspec": {
      "name": "python3",
      "display_name": "Python 3"
    }
  },
  "cells": [
    {
      "cell_type": "markdown",
      "metadata": {
        "id": "view-in-github",
        "colab_type": "text"
      },
      "source": [
        "[View in Colaboratory](https://colab.research.google.com/github/DerekChuang/tensorflow_practice/blob/master/numpy_input.ipynb)"
      ]
    },
    {
      "metadata": {
        "id": "qnbQ_I-LLJZc",
        "colab_type": "code",
        "colab": {}
      },
      "cell_type": "code",
      "source": [
        "import tensorflow as tf\n",
        "import numpy as np\n",
        "import shutil"
      ],
      "execution_count": 0,
      "outputs": []
    },
    {
      "metadata": {
        "id": "MEcBgpJjLqAG",
        "colab_type": "code",
        "colab": {}
      },
      "cell_type": "code",
      "source": [
        "shutil.rmtree(\"outdir\", ignore_errors = True) # start fresh each time\n"
      ],
      "execution_count": 0,
      "outputs": []
    },
    {
      "metadata": {
        "id": "YjY2bj6SLriq",
        "colab_type": "code",
        "colab": {}
      },
      "cell_type": "code",
      "source": [
        "sqft  = np.array([ 1000,    2000,    3000,    1000,  2000,  3000])\n",
        "ptype = np.array([\"house\", \"house\", \"house\", \"apt\", \"apt\", \"apt\"])\n",
        "price = np.array([ 500,     1000,    1500,    700,   1300,  1900])\n"
      ],
      "execution_count": 0,
      "outputs": []
    },
    {
      "metadata": {
        "id": "GjXG32-ROWic",
        "colab_type": "text"
      },
      "cell_type": "markdown",
      "source": [
        "# numpy_input_fn\n",
        "tf.estimator.inputs.numpy_input_fn(\n",
        "    x,\n",
        "    y=None,\n",
        "    batch_size=128,\n",
        "    num_epochs=1,\n",
        "    shuffle=None,\n",
        "    queue_capacity=1000,\n",
        "    num_threads=1\n",
        "  )\n",
        "  \n",
        "  \n",
        "  \n",
        "  x: numpy array object or dict of numpy array objects. If an array, the array will be treated as a single feature.\n",
        "y: numpy array object or dict of numpy array object. None if absent."
      ]
    },
    {
      "metadata": {
        "id": "NmPcggVaLuCC",
        "colab_type": "code",
        "colab": {
          "base_uri": "https://localhost:8080/",
          "height": 138
        },
        "outputId": "5fa59042-1472-4cd4-85e2-5fb226efa0d8"
      },
      "cell_type": "code",
      "source": [
        "def nptrain_input_fn(sqft, ptype, price):  # a numpy array\n",
        "   return tf.estimator.inputs.numpy_input_fn(\n",
        "       x = {\"sq_footage\": sqft, \"type\": ptype},\n",
        "       y = price,\n",
        "       num_epochs=1000,\n",
        "       batch_size=3,\n",
        "       shuffle=True\n",
        "   )\n",
        "  \n",
        "  \n",
        "  \n",
        "  \n",
        "  \n",
        "  \n",
        "  \n",
        "\n",
        "feat, lab = nptrain_input_fn(sqft, ptype, price)()"
      ],
      "execution_count": 4,
      "outputs": [
        {
          "output_type": "stream",
          "text": [
            "WARNING:tensorflow:From /usr/local/lib/python3.6/dist-packages/tensorflow/python/estimator/inputs/queues/feeding_queue_runner.py:62: QueueRunner.__init__ (from tensorflow.python.training.queue_runner_impl) is deprecated and will be removed in a future version.\n",
            "Instructions for updating:\n",
            "To construct input pipelines, use the `tf.data` module.\n",
            "WARNING:tensorflow:From /usr/local/lib/python3.6/dist-packages/tensorflow/python/estimator/inputs/queues/feeding_functions.py:500: add_queue_runner (from tensorflow.python.training.queue_runner_impl) is deprecated and will be removed in a future version.\n",
            "Instructions for updating:\n",
            "To construct input pipelines, use the `tf.data` module.\n"
          ],
          "name": "stdout"
        }
      ]
    },
    {
      "metadata": {
        "id": "uvSzJGv2L_0P",
        "colab_type": "code",
        "colab": {}
      },
      "cell_type": "code",
      "source": [
        "featcols = [\n",
        "    tf.feature_column.numeric_column(\"sq_footage\"),\n",
        "    tf.feature_column.categorical_column_with_vocabulary_list(\"type\", [\"house\", \"apt\"])\n",
        "]"
      ],
      "execution_count": 0,
      "outputs": []
    },
    {
      "metadata": {
        "id": "MFYaQLGNMT5X",
        "colab_type": "code",
        "colab": {
          "base_uri": "https://localhost:8080/",
          "height": 171
        },
        "outputId": "65733b0a-f00e-4b36-aaae-52cb07c70f48"
      },
      "cell_type": "code",
      "source": [
        "model = tf.estimator.LinearRegressor(featcols, \"outdir\")\n"
      ],
      "execution_count": 6,
      "outputs": [
        {
          "output_type": "stream",
          "text": [
            "INFO:tensorflow:Using default config.\n",
            "INFO:tensorflow:Using config: {'_model_dir': 'outdir', '_tf_random_seed': None, '_save_summary_steps': 100, '_save_checkpoints_steps': None, '_save_checkpoints_secs': 600, '_session_config': allow_soft_placement: true\n",
            "graph_options {\n",
            "  rewrite_options {\n",
            "    meta_optimizer_iterations: ONE\n",
            "  }\n",
            "}\n",
            ", '_keep_checkpoint_max': 5, '_keep_checkpoint_every_n_hours': 10000, '_log_step_count_steps': 100, '_train_distribute': None, '_device_fn': None, '_protocol': None, '_eval_distribute': None, '_experimental_distribute': None, '_service': None, '_cluster_spec': <tensorflow.python.training.server_lib.ClusterSpec object at 0x7fae76a21cf8>, '_task_type': 'worker', '_task_id': 0, '_global_id_in_cluster': 0, '_master': '', '_evaluation_master': '', '_is_chief': True, '_num_ps_replicas': 0, '_num_worker_replicas': 1}\n"
          ],
          "name": "stdout"
        }
      ]
    },
    {
      "metadata": {
        "id": "IWP_UH5LMVxG",
        "colab_type": "code",
        "colab": {
          "base_uri": "https://localhost:8080/",
          "height": 138
        },
        "outputId": "adfddcb3-6466-48b5-a8ae-67a5f4e44c46"
      },
      "cell_type": "code",
      "source": [
        "\n",
        "# try geting data from the input function by hand\n",
        "print(feat)\n",
        "with tf.Session() as sess:\n",
        "    tf.train.start_queue_runners(coord=tf.train.Coordinator())\n",
        "    a = sess.run(feat[\"sq_footage\"])\n",
        "    print(a)\n",
        "    a = sess.run(feat[\"sq_footage\"])\n",
        "    print(a)"
      ],
      "execution_count": 7,
      "outputs": [
        {
          "output_type": "stream",
          "text": [
            "{'sq_footage': <tf.Tensor 'random_shuffle_queue_DequeueUpTo:1' shape=(?,) dtype=int64>, 'type': <tf.Tensor 'random_shuffle_queue_DequeueUpTo:2' shape=(?,) dtype=string>}\n",
            "WARNING:tensorflow:From <ipython-input-7-b025b1ffa49a>:3: start_queue_runners (from tensorflow.python.training.queue_runner_impl) is deprecated and will be removed in a future version.\n",
            "Instructions for updating:\n",
            "To construct input pipelines, use the `tf.data` module.\n",
            "[3000 2000 2000]\n",
            "[1000 3000 3000]\n"
          ],
          "name": "stdout"
        }
      ]
    },
    {
      "metadata": {
        "id": "CN-43PKdMbL7",
        "colab_type": "code",
        "colab": {
          "base_uri": "https://localhost:8080/",
          "height": 840
        },
        "outputId": "5e997227-b484-420b-9754-8b3cafe36aef"
      },
      "cell_type": "code",
      "source": [
        "#train model\n",
        "model.train(nptrain_input_fn(sqft, ptype, price))"
      ],
      "execution_count": 8,
      "outputs": [
        {
          "output_type": "stream",
          "text": [
            "INFO:tensorflow:Calling model_fn.\n",
            "INFO:tensorflow:Done calling model_fn.\n",
            "INFO:tensorflow:Create CheckpointSaverHook.\n",
            "INFO:tensorflow:Graph was finalized.\n",
            "INFO:tensorflow:Running local_init_op.\n",
            "INFO:tensorflow:Done running local_init_op.\n",
            "INFO:tensorflow:Saving checkpoints for 0 into outdir/model.ckpt.\n",
            "INFO:tensorflow:loss = 7710000.0, step = 1\n",
            "INFO:tensorflow:global_step/sec: 517.015\n",
            "INFO:tensorflow:loss = 98971.27, step = 101 (0.195 sec)\n",
            "INFO:tensorflow:global_step/sec: 667.555\n",
            "INFO:tensorflow:loss = 100924.06, step = 201 (0.153 sec)\n",
            "INFO:tensorflow:global_step/sec: 431.187\n",
            "INFO:tensorflow:loss = 37713.87, step = 301 (0.227 sec)\n",
            "INFO:tensorflow:global_step/sec: 719.621\n",
            "INFO:tensorflow:loss = 67504.41, step = 401 (0.140 sec)\n",
            "INFO:tensorflow:global_step/sec: 737.778\n",
            "INFO:tensorflow:loss = 82032.26, step = 501 (0.135 sec)\n",
            "INFO:tensorflow:global_step/sec: 706.435\n",
            "INFO:tensorflow:loss = 52000.266, step = 601 (0.141 sec)\n",
            "INFO:tensorflow:global_step/sec: 718.095\n",
            "INFO:tensorflow:loss = 147094.94, step = 701 (0.139 sec)\n",
            "INFO:tensorflow:global_step/sec: 714.38\n",
            "INFO:tensorflow:loss = 37896.83, step = 801 (0.140 sec)\n",
            "INFO:tensorflow:global_step/sec: 721.761\n",
            "INFO:tensorflow:loss = 81553.71, step = 901 (0.139 sec)\n",
            "INFO:tensorflow:global_step/sec: 687.285\n",
            "INFO:tensorflow:loss = 52305.734, step = 1001 (0.146 sec)\n",
            "INFO:tensorflow:global_step/sec: 742.135\n",
            "INFO:tensorflow:loss = 56596.22, step = 1101 (0.134 sec)\n",
            "INFO:tensorflow:global_step/sec: 702.587\n",
            "INFO:tensorflow:loss = 95887.94, step = 1201 (0.145 sec)\n",
            "INFO:tensorflow:global_step/sec: 753.802\n",
            "INFO:tensorflow:loss = 46270.04, step = 1301 (0.131 sec)\n",
            "INFO:tensorflow:global_step/sec: 658.919\n",
            "INFO:tensorflow:loss = 56121.06, step = 1401 (0.151 sec)\n",
            "INFO:tensorflow:global_step/sec: 781.972\n",
            "INFO:tensorflow:loss = 57909.805, step = 1501 (0.129 sec)\n",
            "INFO:tensorflow:global_step/sec: 743.314\n",
            "INFO:tensorflow:loss = 56982.324, step = 1601 (0.135 sec)\n",
            "INFO:tensorflow:global_step/sec: 915.337\n",
            "INFO:tensorflow:loss = 85510.89, step = 1701 (0.107 sec)\n",
            "INFO:tensorflow:global_step/sec: 1200.16\n",
            "INFO:tensorflow:loss = 155010.08, step = 1801 (0.083 sec)\n",
            "INFO:tensorflow:global_step/sec: 1222.18\n",
            "INFO:tensorflow:loss = 42386.438, step = 1901 (0.082 sec)\n",
            "INFO:tensorflow:Saving checkpoints for 2000 into outdir/model.ckpt.\n",
            "INFO:tensorflow:Loss for final step: 49882.883.\n"
          ],
          "name": "stdout"
        },
        {
          "output_type": "execute_result",
          "data": {
            "text/plain": [
              "<tensorflow.python.estimator.canned.linear.LinearRegressor at 0x7fae76a21908>"
            ]
          },
          "metadata": {
            "tags": []
          },
          "execution_count": 8
        }
      ]
    },
    {
      "metadata": {
        "id": "3cEig-PHMcEe",
        "colab_type": "code",
        "colab": {
          "base_uri": "https://localhost:8080/",
          "height": 235
        },
        "outputId": "4af52d73-3259-44b3-88b3-d7b9ed79995a"
      },
      "cell_type": "code",
      "source": [
        "def predict_input_fn():\n",
        "    features = {\"sq_footage\": [1500, 1500, 2500, 2500],\n",
        "                \"type\": [\"house\", \"apt\", \"house\", \"apt\"]}\n",
        "    return features\n",
        "\n",
        "predictions = model.predict( input_fn = predict_input_fn)\n",
        "\n",
        "print(next(predictions))\n",
        "print(next(predictions))\n",
        "print(next(predictions))\n",
        "print(next(predictions))\n",
        "print(next(predictions))\n",
        "print(next(predictions))"
      ],
      "execution_count": 9,
      "outputs": [
        {
          "output_type": "stream",
          "text": [
            "WARNING:tensorflow:Input graph does not use tf.data.Dataset or contain a QueueRunner. That means predict yields forever. This is probably a mistake.\n",
            "INFO:tensorflow:Calling model_fn.\n",
            "INFO:tensorflow:Done calling model_fn.\n",
            "INFO:tensorflow:Graph was finalized.\n",
            "INFO:tensorflow:Restoring parameters from outdir/model.ckpt-2000\n",
            "INFO:tensorflow:Running local_init_op.\n",
            "INFO:tensorflow:Done running local_init_op.\n",
            "{'predictions': array([857.77325], dtype=float32)}\n",
            "{'predictions': array([879.367], dtype=float32)}\n",
            "{'predictions': array([1436.0916], dtype=float32)}\n",
            "{'predictions': array([1457.6853], dtype=float32)}\n",
            "{'predictions': array([857.77325], dtype=float32)}\n",
            "{'predictions': array([879.367], dtype=float32)}\n"
          ],
          "name": "stdout"
        }
      ]
    },
    {
      "metadata": {
        "id": "uiEyrhlVMhCX",
        "colab_type": "code",
        "colab": {}
      },
      "cell_type": "code",
      "source": [
        ""
      ],
      "execution_count": 0,
      "outputs": []
    },
    {
      "metadata": {
        "id": "yUt4Dqh2PnHy",
        "colab_type": "text"
      },
      "cell_type": "markdown",
      "source": [
        "# pandas_input_fn"
      ]
    },
    {
      "metadata": {
        "id": "b5pBhLmtPoUc",
        "colab_type": "code",
        "colab": {}
      },
      "cell_type": "code",
      "source": [
        "shutil.rmtree(\"outdir\", ignore_errors = True) # start fresh each time\n"
      ],
      "execution_count": 0,
      "outputs": []
    },
    {
      "metadata": {
        "id": "oC_eeCYDPrQQ",
        "colab_type": "code",
        "colab": {
          "base_uri": "https://localhost:8080/",
          "height": 225
        },
        "outputId": "19c92ec4-72da-4a19-b3df-0ba0b51128e5"
      },
      "cell_type": "code",
      "source": [
        "import pandas as pd\n",
        "\n",
        "\n",
        "\n",
        "#建構一個 dictionary\n",
        "dict = {\n",
        "    \n",
        "    \"sqft\" : [ 1000,    2000,    3000,    1000,  2000,  3000],\n",
        "    \"ptype\" : [\"house\", \"house\", \"house\", \"apt\", \"apt\", \"apt\"],\n",
        "    \"price\" : [ 500,     1000,    1500,    700,   1300,  1900]\n",
        "\n",
        "}\n",
        "\n",
        "\n",
        "brics = pd.DataFrame(dict)\n",
        "brics"
      ],
      "execution_count": 18,
      "outputs": [
        {
          "output_type": "execute_result",
          "data": {
            "text/html": [
              "<div>\n",
              "<style scoped>\n",
              "    .dataframe tbody tr th:only-of-type {\n",
              "        vertical-align: middle;\n",
              "    }\n",
              "\n",
              "    .dataframe tbody tr th {\n",
              "        vertical-align: top;\n",
              "    }\n",
              "\n",
              "    .dataframe thead th {\n",
              "        text-align: right;\n",
              "    }\n",
              "</style>\n",
              "<table border=\"1\" class=\"dataframe\">\n",
              "  <thead>\n",
              "    <tr style=\"text-align: right;\">\n",
              "      <th></th>\n",
              "      <th>price</th>\n",
              "      <th>ptype</th>\n",
              "      <th>sqft</th>\n",
              "    </tr>\n",
              "  </thead>\n",
              "  <tbody>\n",
              "    <tr>\n",
              "      <th>0</th>\n",
              "      <td>500</td>\n",
              "      <td>house</td>\n",
              "      <td>1000</td>\n",
              "    </tr>\n",
              "    <tr>\n",
              "      <th>1</th>\n",
              "      <td>1000</td>\n",
              "      <td>house</td>\n",
              "      <td>2000</td>\n",
              "    </tr>\n",
              "    <tr>\n",
              "      <th>2</th>\n",
              "      <td>1500</td>\n",
              "      <td>house</td>\n",
              "      <td>3000</td>\n",
              "    </tr>\n",
              "    <tr>\n",
              "      <th>3</th>\n",
              "      <td>700</td>\n",
              "      <td>apt</td>\n",
              "      <td>1000</td>\n",
              "    </tr>\n",
              "    <tr>\n",
              "      <th>4</th>\n",
              "      <td>1300</td>\n",
              "      <td>apt</td>\n",
              "      <td>2000</td>\n",
              "    </tr>\n",
              "    <tr>\n",
              "      <th>5</th>\n",
              "      <td>1900</td>\n",
              "      <td>apt</td>\n",
              "      <td>3000</td>\n",
              "    </tr>\n",
              "  </tbody>\n",
              "</table>\n",
              "</div>"
            ],
            "text/plain": [
              "   price  ptype  sqft\n",
              "0    500  house  1000\n",
              "1   1000  house  2000\n",
              "2   1500  house  3000\n",
              "3    700    apt  1000\n",
              "4   1300    apt  2000\n",
              "5   1900    apt  3000"
            ]
          },
          "metadata": {
            "tags": []
          },
          "execution_count": 18
        }
      ]
    },
    {
      "metadata": {
        "id": "YQRStktTTs0g",
        "colab_type": "code",
        "colab": {
          "base_uri": "https://localhost:8080/",
          "height": 134
        },
        "outputId": "de212079-82b4-4700-ac62-223d67acebd2"
      },
      "cell_type": "code",
      "source": [
        "brics[\"sqft\"]"
      ],
      "execution_count": 16,
      "outputs": [
        {
          "output_type": "execute_result",
          "data": {
            "text/plain": [
              "0    1000\n",
              "1    2000\n",
              "2    3000\n",
              "3    1000\n",
              "4    2000\n",
              "5    3000\n",
              "Name: sqft, dtype: int64"
            ]
          },
          "metadata": {
            "tags": []
          },
          "execution_count": 16
        }
      ]
    },
    {
      "metadata": {
        "id": "7Ru3SZRuUqDh",
        "colab_type": "code",
        "colab": {}
      },
      "cell_type": "code",
      "source": [
        ""
      ],
      "execution_count": 0,
      "outputs": []
    }
  ]
}